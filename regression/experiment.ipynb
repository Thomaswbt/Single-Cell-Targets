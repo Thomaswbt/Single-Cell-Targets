{
 "cells": [
  {
   "cell_type": "code",
   "execution_count": 1,
   "metadata": {},
   "outputs": [],
   "source": [
    "import numpy as np\n",
    "import pickle\n"
   ]
  },
  {
   "cell_type": "code",
   "execution_count": 2,
   "metadata": {},
   "outputs": [],
   "source": [
    "X = np.load('data/dataset/GBM_gene_embed_0.npy')\n",
    "y = pickle.load(open('data/dataset/overall_scores.pkl', 'rb'))"
   ]
  },
  {
   "cell_type": "code",
   "execution_count": 4,
   "metadata": {},
   "outputs": [
    {
     "name": "stdout",
     "output_type": "stream",
     "text": [
      "(4699, 400)\n",
      "4699\n"
     ]
    }
   ],
   "source": [
    "print(X.shape)\n",
    "print(len(y))"
   ]
  },
  {
   "cell_type": "code",
   "execution_count": 5,
   "metadata": {},
   "outputs": [
    {
     "data": {
      "text/plain": [
       "0.0014783194187388072"
      ]
     },
     "execution_count": 5,
     "metadata": {},
     "output_type": "execute_result"
    }
   ],
   "source": [
    "min(y)"
   ]
  },
  {
   "cell_type": "code",
   "execution_count": 6,
   "metadata": {},
   "outputs": [
    {
     "data": {
      "text/plain": [
       "0.8311841904110105"
      ]
     },
     "execution_count": 6,
     "metadata": {},
     "output_type": "execute_result"
    }
   ],
   "source": [
    "max(y)"
   ]
  },
  {
   "cell_type": "code",
   "execution_count": 7,
   "metadata": {},
   "outputs": [],
   "source": [
    "X1 = np.load('data/dataset/GBM_gene_embed_1e-2.npy')"
   ]
  },
  {
   "cell_type": "code",
   "execution_count": 8,
   "metadata": {},
   "outputs": [],
   "source": [
    "# hold out test set\n",
    "import random\n",
    "idx = random.sample(range(len(y)), int(len(y) * 0.1))\n",
    "idx = np.array(idx)\n",
    "X_test = X[idx]\n",
    "X1_test = X1[idx]\n",
    "y_test = np.array(y)[idx]\n",
    "np.save('data/dataset/GBM_gene_embed_0_test.npy', X_test)\n",
    "np.save('data/dataset/GBM_gene_embed_1e-2_test.npy', X1_test)\n",
    "np.save('data/dataset/overall_scores_test.npy', y_test)\n",
    "\n",
    "X_train = np.delete(X, idx, axis=0)\n",
    "X1_train = np.delete(X1, idx, axis=0)\n",
    "y_train = np.delete(y, idx, axis=0)\n",
    "np.save('data/dataset/GBM_gene_embed_0_train.npy', X_train)\n",
    "np.save('data/dataset/GBM_gene_embed_1e-2_train.npy', X1_train)\n",
    "np.save('data/dataset/overall_scores_train.npy', y_train)"
   ]
  },
  {
   "cell_type": "code",
   "execution_count": 9,
   "metadata": {},
   "outputs": [],
   "source": [
    "idx2gene = pickle.load(open('data/dataset/idx2gene.pkl', 'rb'))\n",
    "gene_test = [idx2gene[i] for i in idx]\n",
    "# save gene_test\n",
    "pickle.dump(gene_test, open('data/dataset/gene_test.pkl', 'wb'))"
   ]
  },
  {
   "cell_type": "code",
   "execution_count": null,
   "metadata": {},
   "outputs": [],
   "source": []
  }
 ],
 "metadata": {
  "kernelspec": {
   "display_name": "Python 3.7.10 ('faiss': conda)",
   "language": "python",
   "name": "python3"
  },
  "language_info": {
   "codemirror_mode": {
    "name": "ipython",
    "version": 3
   },
   "file_extension": ".py",
   "mimetype": "text/x-python",
   "name": "python",
   "nbconvert_exporter": "python",
   "pygments_lexer": "ipython3",
   "version": "3.7.10"
  },
  "orig_nbformat": 4,
  "vscode": {
   "interpreter": {
    "hash": "b5c7235b26a75acaad6afcef55470b772a8587cc039c86caf248da7f07beb056"
   }
  }
 },
 "nbformat": 4,
 "nbformat_minor": 2
}
