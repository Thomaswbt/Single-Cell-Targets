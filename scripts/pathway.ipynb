{
 "cells": [
  {
   "cell_type": "code",
   "execution_count": null,
   "metadata": {},
   "outputs": [],
   "source": [
    "import pickle\n",
    "import os\n",
    "import numpy as np\n",
    "import torch.nn.functional as F \n",
    "import torch\n",
    "import pandas as pd\n",
    "import anndata as ad\n",
    "from scETM import scETM\n",
    "from multiprocessing import Pool\n",
    "\n",
    "os.getcwd()"
   ]
  },
  {
   "cell_type": "code",
   "execution_count": null,
   "metadata": {},
   "outputs": [],
   "source": [
    "working_dir = 'glioma'"
   ]
  },
  {
   "cell_type": "code",
   "execution_count": null,
   "metadata": {},
   "outputs": [],
   "source": [
    "\n",
    "gl_csvs = ['IDH-MUT.csv']\n",
    "gl_adatas = []\n",
    "for fpath in gl_csvs:\n",
    "    df = pd.read_csv(fpath, index_col=0)\n",
    "    adata = ad.AnnData(X=df.iloc[:, 2:], obs=df.iloc[:, :2])\n",
    "    gl_adatas.append(adata)\n",
    "gl = ad.concat(gl_adatas, label=\"batch_indices\")\n",
    "\n",
    "adata = gl\n",
    "model = scETM(adata.n_vars, adata.obs.batch_indices.nunique())\n",
    "model.load_state_dict(torch.load('model'))\n",
    "model.get_all_embeddings_and_nll(adata)\n",
    "\n",
    "delta, alpha, rho = map(pd.DataFrame, [adata.obsm['delta'], adata.uns['alpha'], adata.varm['rho']])\n",
    "delta.index = adata.obs_names\n",
    "rho.index = adata.var_names\n",
    "delta.shape, alpha.shape, rho.shape"
   ]
  },
  {
   "cell_type": "code",
   "execution_count": null,
   "metadata": {},
   "outputs": [],
   "source": [
    "adata"
   ]
  },
  {
   "cell_type": "code",
   "execution_count": null,
   "metadata": {},
   "outputs": [],
   "source": [
    "print('Get top 30 genes per topic (for enrichment analysis)')\n",
    "beta = rho @ alpha.T  # (gene, topic)\n",
    "top_words = pd.DataFrame(adata.var_names.values[np.argsort(beta.values, axis=0)[:-31:-1]])  # (n_top, topic)\n",
    "top_words.to_csv(os.path.join(working_dir, 'beta_top30genes.csv'))"
   ]
  },
  {
   "cell_type": "code",
   "execution_count": null,
   "metadata": {},
   "outputs": [],
   "source": [
    "print('Saving unnormliazed topic mixture delta')\n",
    "delta.to_csv(os.path.join(working_dir, 'delta.csv'))\n",
    "\n",
    "print('Saving metadata')\n",
    "## create meta csv (condition, individual_id, cell_type)\n",
    "adata.obs.to_csv(os.path.join(working_dir, 'meta.csv'))\n",
    "\n",
    "print('Saving normalized topic mixture theta')\n",
    "theta = torch.tensor(delta.values).softmax(dim=-1).detach().cpu().numpy()\n",
    "theta = pd.DataFrame(theta, index=adata.obs_names)\n",
    "theta.to_csv(os.path.join(working_dir, 'theta.csv'))"
   ]
  },
  {
   "cell_type": "code",
   "execution_count": null,
   "metadata": {},
   "outputs": [],
   "source": [
    "# by default, keep all topics\n",
    "print('Sampling theta')\n",
    "delta_sample = delta.sample(10000)\n",
    "topic_kept = delta_sample.columns[delta_sample.sum(0) >= 1500]  # (topics)\n",
    "meta_sample = adata.obs.loc[delta_sample.index]\n",
    "delta_sample.to_csv(os.path.join(working_dir, 'delta_sampled.csv'))\n",
    "meta_sample.to_csv(os.path.join(working_dir, 'meta_sampled.csv'))\n",
    "\n",
    "delta_kept = delta[topic_kept]  # (cells, topics)"
   ]
  },
  {
   "cell_type": "code",
   "execution_count": null,
   "metadata": {},
   "outputs": [],
   "source": [
    "print(\"Pathway enrichment analysis\")\n",
    "from pathdip import pathDIP_Http \n",
    "\n",
    "n_topics = delta.shape[1]\n",
    "component = \"Literature curated (core) pathway memberships\"\n",
    "sources = \"ACSN2,BioCarta,EHMN,HumanCyc,INOH,IPAVS,KEGG,NetPath,OntoCancro,Panther_Pathway,PharmGKB,PID,RB-Pathways,REACTOME,stke,systems-biology.org,SignaLink2.0,SIGNOR2.0,SMPDB,Spike,UniProt_Pathways,WikiPathways\"\n",
    "o = pathDIP_Http()\n",
    "pathway_df=[]\n",
    "for i in range(n_topics):\n",
    "    IDs = ', '.join(top_words[i])\n",
    "    o.searchOnGenesymbols(IDs, component, sources)\n",
    "    result = o.getPathwayAnalysis().split('\\n')[1:]\n",
    "    for line in result:\n",
    "        p = line.split('\\t')[:-1]\n",
    "        p.append(i)\n",
    "        if len(p) == 1:\n",
    "            continue\n",
    "        pathway_df.append(p)\n",
    "pathway_df = pd.DataFrame(pathway_df, columns = ['pathway_source','pathway_name','p_val','q_val_BH','q_val_Bonf','topic'])  # (pathways, features)\n",
    "\n",
    "pathway_df['q_val_BH'] = pathway_df['q_val_BH'].astype(float)\n",
    "pathway_df = pathway_df[pathway_df['q_val_BH'] < 0.05]\n",
    "pathway_df.to_csv(os.path.join(working_dir, 'pathways.csv'))"
   ]
  },
  {
   "cell_type": "code",
   "execution_count": null,
   "metadata": {},
   "outputs": [],
   "source": [
    "print('Starting permutation test for cell types')\n",
    "def simulate_mean_diff_once(data, rng: np.random.Generator):\n",
    "    half = len(data) // 2\n",
    "    ind = np.arange(len(data))\n",
    "    rng.shuffle(ind)\n",
    "    md = data[ind[:half]].mean(0) - data[ind[half:half * 2]].mean(0)\n",
    "    return md\n",
    "\n",
    "def simulate_mean_diff(data, repeats, seed):\n",
    "    rng = np.random.default_rng(seed)\n",
    "    mds = []\n",
    "    for _ in range(repeats):\n",
    "        mds.append(simulate_mean_diff_once(data, rng))\n",
    "    return mds\n",
    "\n",
    "types = adata.obs.cell_types.unique()\n",
    "mds = []\n",
    "\n",
    "reps = 10000\n",
    "n_jobs = 10\n",
    "# WARNING: Multithreading does not work in notebook, please run multithread_perm.py\n",
    "with Pool(n_jobs) as p:\n",
    "    l = [p.apply_async(simulate_mean_diff, (delta_kept.values, reps // n_jobs, seed)) for seed in range(n_jobs)]\n",
    "    l = [e.get() for e in l]\n",
    "    mds_simulated = np.concatenate(l, axis=0)\n",
    "for t in types:\n",
    "    test = delta_kept[adata.obs.cell_types == t]  # (cells_test, topics)\n",
    "    ctrl = delta_kept[adata.obs.cell_types != t]  # (cells_ctrl, topics)\n",
    "    md = test.mean(0) - ctrl.mean(0)  # (topics)\n",
    "    mds.append(md)\n",
    "mds = np.array(mds)  # (cell_types, topics)\n",
    "mds_simulated = np.array(mds_simulated)\n",
    "\n",
    "pvals = (mds_simulated.T[None, ...] > mds[..., None]).sum(-1) + 1 / (reps + 1)  # (cell_types, topics, *repeats*)\n",
    "pval_df = pd.DataFrame(pvals, index=types, columns=topic_kept)  # (cell_types, topics)\n",
    "pval_df = pval_df * 100 * len(types)\n",
    "pval_df.to_csv(os.path.join(working_dir, 'perm_p_onesided_celltype.csv'))\n",
    "\n",
    "mds = pd.DataFrame(mds, index=types, columns=topic_kept)\n",
    "mds.to_csv(os.path.join(working_dir, 'perm_mean_celltype.csv'))"
   ]
  },
  {
   "cell_type": "code",
   "execution_count": null,
   "metadata": {},
   "outputs": [],
   "source": [
    "print('Selecting interesting topics to plot beta')\n",
    "from collections import OrderedDict\n",
    "# INPUT REQUIRED HERE (\"interesting\" topics can be cell type / condition DE topics, or topics with interesting pathways)\n",
    "user_selected_topics = [15,18,19,35,49]\n",
    "print('Get top 10 genes per topic (for figure)')\n",
    "top_words = pd.DataFrame(adata.var_names.values[np.argsort(beta[user_selected_topics].values, axis=0)[:-11:-1]])  # (n_top, topic_selected) \n",
    "gene_list = list(OrderedDict.fromkeys(top_words.values.T.flatten()))\n",
    "\n",
    "beta_top = beta.loc[gene_list, user_selected_topics]  # (genes_selected, topic_selected)\n",
    "beta_top = beta_top / beta_top.abs().max(0)\n",
    "beta_top.to_csv(os.path.join(working_dir, 'beta_top10genes_selected_topics.csv'))"
   ]
  },
  {
   "cell_type": "code",
   "execution_count": null,
   "metadata": {},
   "outputs": [],
   "source": [
    "delta_sum = delta_kept.abs().sum(axis=0)\n",
    "\n",
    "topk = delta_sum.sort_values()[-15:].index\n",
    "\n",
    "pathway_new = pathway_df.loc[pathway_df.topic.apply(lambda x: x in topk)]\n",
    "pathway_new['neg_log_q_BH'] = -np.log10(pathway_new['q_val_BH'].astype(float).values)\n",
    "pathway_new['topic'] = pathway_new['topic'].astype(str)\n",
    "pathway_new[\"name\"] = pathway_new['topic'].str.cat(pathway_new['pathway_name'].astype(str), sep=':').str.slice(0, 50)"
   ]
  },
  {
   "cell_type": "code",
   "execution_count": null,
   "metadata": {},
   "outputs": [],
   "source": [
    "import seaborn as sns\n",
    "import matplotlib.pyplot as plt\n",
    "\n",
    "mypalette = dict()\n",
    "is_grey = False\n",
    "for topic in pathway_new.topic.unique():\n",
    "    if not is_grey:\n",
    "        mypalette[topic] = 'black'\n",
    "        is_grey=True\n",
    "    else:\n",
    "        mypalette[topic] = 'grey'\n",
    "        is_grey=False\n",
    "        \n",
    "fig,ax=plt.subplots(figsize=(4,20),dpi=500)\n",
    "ax = sns.barplot(y=\"name\", x=\"neg_log_q_BH\", \n",
    "                 data=pathway_new,ax=ax,hue='topic',palette=mypalette,\n",
    "                 dodge=False)\n",
    "plt.xlabel('Negative log10 q-value (BH)')\n",
    "plt.ylabel('')\n",
    "plt.legend([],[], frameon=False)\n",
    "plt.savefig(os.path.join(working_dir, \"pathway_15topics.pdf\"), bbox_inches = \"tight\")"
   ]
  }
 ],
 "metadata": {
  "kernelspec": {
   "display_name": "Python 3.10.6 64-bit",
   "language": "python",
   "name": "python3"
  },
  "language_info": {
   "codemirror_mode": {
    "name": "ipython",
    "version": 3
   },
   "file_extension": ".py",
   "mimetype": "text/x-python",
   "name": "python",
   "nbconvert_exporter": "python",
   "pygments_lexer": "ipython3",
   "version": "3.10.6"
  },
  "orig_nbformat": 4,
  "vscode": {
   "interpreter": {
    "hash": "916dbcbb3f70747c44a77c7bcd40155683ae19c65e1c03b4aa3499c5328201f1"
   }
  }
 },
 "nbformat": 4,
 "nbformat_minor": 2
}
